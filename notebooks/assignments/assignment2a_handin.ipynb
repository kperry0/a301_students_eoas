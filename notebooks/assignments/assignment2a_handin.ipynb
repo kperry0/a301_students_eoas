{
 "cells": [
  {
   "cell_type": "markdown",
   "id": "f85ed4cf",
   "metadata": {},
   "source": [
    "(assign2_sol)=\n",
    "# Assignment 2 - solutions\n",
    "\n",
    "Chapter 2: A23, A24, A25, A26\n",
    "Chapter 8: A2, A4"
   ]
  },
  {
   "cell_type": "code",
   "execution_count": null,
   "id": "66906451",
   "metadata": {},
   "outputs": [],
   "source": [
    "import numpy as np\n",
    "import string"
   ]
  },
  {
   "cell_type": "markdown",
   "id": "0942afad",
   "metadata": {},
   "source": [
    "## 2-A23\n",
    "\n",
    "What product of number density times absorption cross section is needed in order for 50% of the incident radiation to be absorbed by airborne volcanic ash over the following path length (km)?\n",
    "\n",
    "Given Equation 2.31a:\n",
    "\n",
    "$$\n",
    "\\begin{align}\n",
    "E_{\\text {transmitted}}&=E_{\\text {incident}} \\cdot \\mathrm{e}^{-n \\cdot b \\cdot \\Delta s}\\\\\n",
    "t &= 0.5 = \\mathrm{e}^{-n \\cdot b \\cdot \\Delta s}\n",
    "\\end{align}\n",
    "$$\n",
    "What product of number density $n$ times absorption cross section  $b$ is needed in order for 50% of the incident radiation $E_{\\text {incident}}$ to be absorbed by airborne volcanic ash over the following path length (km)?\n",
    "\n"
   ]
  },
  {
   "cell_type": "code",
   "execution_count": null,
   "id": "b5def1ca",
   "metadata": {
    "deletable": false,
    "nbgrader": {
     "cell_type": "code",
     "checksum": "e40af0e7faa8ad065e43c7997a381424",
     "grade": true,
     "grade_id": "cell-b96ed7e65e65e8f5",
     "locked": false,
     "points": 3,
     "schema_version": 3,
     "solution": true,
     "task": false
    }
   },
   "outputs": [],
   "source": [
    "# YOUR CODE HERE\n",
    "raise NotImplementedError()"
   ]
  },
  {
   "cell_type": "markdown",
   "id": "0795fb53",
   "metadata": {},
   "source": [
    "## 2-A24 \n",
    "\n",
    "Given optical depth $\\tau$ in the equation 2.31c\n",
    "\n",
    "\\$$E_{\\text {transmitted}}=E_{\\text {incident}} \\cdot \\mathrm{e}^{-\\tau}$$\n",
    "\n",
    "What fraction of incident radiation is transmitted through a volcanic ash cloud of optical depth:"
   ]
  },
  {
   "cell_type": "code",
   "execution_count": null,
   "id": "66ddd20e",
   "metadata": {
    "deletable": false,
    "nbgrader": {
     "cell_type": "code",
     "checksum": "282aa3966868335f7a51761a55bd3d90",
     "grade": true,
     "grade_id": "cell-7b3d4bd8e3569eef",
     "locked": false,
     "points": 2,
     "schema_version": 3,
     "solution": true,
     "task": false
    }
   },
   "outputs": [],
   "source": [
    "# YOUR CODE HERE\n",
    "raise NotImplementedError()"
   ]
  },
  {
   "cell_type": "markdown",
   "id": "df9cc6cd",
   "metadata": {},
   "source": [
    "## 2-A25 \n",
    "\n",
    "given $\\gamma = n \\cdot b = k \\cdot \\rho$\n",
    "\n",
    "Find the visial range $\\Delta s$ such that the tranmissivity = \n",
    "\n",
    "\n",
    "$$\n",
    "\\begin{align}\n",
    "t &= 0.02 = \\exp ( -\\gamma \\cdot \\Delta s) \\\\\n",
    "\\Delta s &= -\\log(0.02)/\\gamma\\ (meters)\n",
    "\\end{align}\n",
    "$$"
   ]
  },
  {
   "cell_type": "code",
   "execution_count": null,
   "id": "d1c5d833",
   "metadata": {
    "deletable": false,
    "nbgrader": {
     "cell_type": "code",
     "checksum": "b9331f77b673a96676f5613a9f6b2f2a",
     "grade": true,
     "grade_id": "cell-44d994462fb07091",
     "locked": false,
     "points": 2,
     "schema_version": 3,
     "solution": true,
     "task": false
    }
   },
   "outputs": [],
   "source": [
    "# YOUR CODE HERE\n",
    "raise NotImplementedError()"
   ]
  },
  {
   "cell_type": "markdown",
   "id": "a10a3b36",
   "metadata": {},
   "source": [
    "## 2-A26 \n",
    "\n",
    "\n",
    "Use `find_elevation` and `find_Tr` to calculate the downward direct shortwave flux\n",
    "at three of the cities in problem A5 on June 21, 2020 at local solar noon (i.e. forget about daylight savings)\n",
    "The cities are:  Vancouver, Reading and Norman, assuming 20% coverage of cumulus (low) clouds."
   ]
  },
  {
   "cell_type": "markdown",
   "id": "f022bd14",
   "metadata": {},
   "source": [
    "#### the formulas\n",
    "\n",
    "find the flux at the surface given Stull 2.35\n",
    "\n",
    "$$\n",
    "T_{r}=(0.6+0.2 \\sin \\Psi)\\left(1-0.4 \\sigma_{H}\\right)\\left(1-0.7 \\sigma_{M}\\right)\\left(1-0.4 \\sigma_{L}\\right)\n",
    "$$\n",
    "\n",
    "with $\\sigma_L=0.2$\n",
    "\n",
    "Eq. 2.5\n",
    "\n",
    "$$\n",
    "\\delta_{S} \\approx \\Phi_{r} \\cdot \\cos \\left[\\frac{C \\cdot\\left(d-d_{r}\\right)}{d_{y}}\\right]\n",
    "$$\n",
    "\n",
    "\n",
    "Eq. 2.6:\n",
    "\n",
    "\n",
    "$$\n",
    "\\begin{aligned}\n",
    "\\sin (\\Psi)=& \\sin (\\phi) \\cdot \\sin \\left(\\delta_{S}\\right)-\\\\\n",
    "& \\cos (\\phi) \\cdot \\cos \\left(\\delta_{S}\\right) \\cdot \\cos \\left[\\frac{C \\cdot t_{U T C}}{t_{d}}+\\lambda_{e}\\right]\n",
    "\\end{aligned}\n",
    "$$"
   ]
  },
  {
   "cell_type": "markdown",
   "id": "8479a20a",
   "metadata": {},
   "source": [
    "### helper functions `find_deltas`, `find_elevation` and `find_Tr`\n",
    "\n",
    "Use datetime objects to handle dates with this code below"
   ]
  },
  {
   "cell_type": "code",
   "execution_count": null,
   "id": "5fe96fbd",
   "metadata": {},
   "outputs": [],
   "source": [
    "import datetime as dt\n",
    "from math import asin,sin,cos,pi\n",
    "import numpy as np\n",
    "        \n",
    "\n",
    "deg2rad=pi/180.\n",
    "rad2deg=1./deg2rad\n",
    "\n",
    "def find_deltas(the_date):\n",
    "    \"\"\"given a python datetime object (UTC)\n",
    "       find the solar declination angle in degrees\n",
    "       using Stull equation 2.5\n",
    "\n",
    "       Parameters\n",
    "       ----------\n",
    "       \n",
    "       the_date: datetime object with UTC timezone\n",
    "       \n",
    "       Returns\n",
    "       -------\n",
    "       \n",
    "       deltas:  solar declination angle in degrees\n",
    "    \"\"\"\n",
    "    the_year=the_date.year\n",
    "    #\n",
    "    # find the length of the year (leap or regular) in days by subtracting\n",
    "    # two datetimes exactly 1 year apart -- jan 1, 0 hours, 0 minutes, 0 seconds\n",
    "    # \n",
    "    year_start=dt.datetime(the_year,1,1,0,0,0,tzinfo=dt.timezone.utc)\n",
    "    year_end=dt.datetime(the_year+1,1,1,0,0,0,tzinfo=dt.timezone.utc)\n",
    "    year_length=(year_end - year_start).days\n",
    "    print(f\"this year has {year_length:6.3f} days\")\n",
    "    phir=23.44 #axis tilt in degrees from stull\n",
    "    #\n",
    "    # could get the exact soltice using the ephem package\n",
    "    # but here June 21 is close enough\n",
    "    #\n",
    "    # otherwise use june 21\n",
    "    #\n",
    "    solstice = dt.datetime(2020,6,21,0,0,0,tzinfo=dt.timezone.utc)\n",
    "    #number of days since the new year\n",
    "    the_day=(the_date - year_start).days\n",
    "    jan1=dt.datetime(the_date.year,1,1,0,0,0,tzinfo=dt.timezone.utc)\n",
    "    solstice_day=(solstice - jan1).days\n",
    "    #print('solstice has {} days'.format(solstice_day))\n",
    "    fraction=(the_day - solstice_day)/year_length\n",
    "    deltas=phir*cos(2*pi*fraction)\n",
    "    return deltas"
   ]
  },
  {
   "cell_type": "code",
   "execution_count": null,
   "id": "d4123d7f",
   "metadata": {},
   "outputs": [],
   "source": [
    "def find_elevation(the_date,the_lat,the_lon):\n",
    "    \"\"\"find the solar elevation for a location in degrees \n",
    "       datetime object with a UTC timezone representing\n",
    "       local time, using Stull eqn. 2.6\n",
    "\n",
    "       Parameters\n",
    "       ----------\n",
    "       the_date: datetime object\n",
    "           time in UTC\n",
    "       the_lat: float\n",
    "           degrees North\n",
    "       the_lon: float\n",
    "           degrees East\n",
    "           \n",
    "       Returns\n",
    "       -------\n",
    "       \n",
    "       elevation: float\n",
    "          solar elevation in degrees\n",
    "    \"\"\"\n",
    "    deltas=find_deltas(the_date)\n",
    "    deltas=deltas*deg2rad\n",
    "    phi= the_lat*deg2rad # latitude deg N\n",
    "    lambda_e = the_lon*deg2rad #longitude, deg E\n",
    "    #\n",
    "    #  turn minutes into fractions of an hour\n",
    "    #\n",
    "    t_utc=the_date.hour + the_date.minute/60.\n",
    "    print(f\"the longitude: {the_lon:5.2f} deg E, hour in utc {t_utc}\")\n",
    "    #stull eqn 2.6\n",
    "    sin_psi=sin(phi)*sin(deltas) - cos(phi)*cos(deltas)*cos(2*pi*t_utc/24. + lambda_e)\n",
    "    elevation=asin(sin_psi)*rad2deg\n",
    "    #write 0 if under the horizon\n",
    "    if elevation < 0:\n",
    "        elevation=0.\n",
    "    return elevation"
   ]
  },
  {
   "cell_type": "markdown",
   "id": "5d6e9a59",
   "metadata": {},
   "source": [
    "Start accumulating results in a dictionary for each part of A26.  We will key on the city\n",
    "and each city will have its own dictionary."
   ]
  },
  {
   "cell_type": "code",
   "execution_count": null,
   "id": "c4a46eef",
   "metadata": {},
   "outputs": [],
   "source": [
    "#\n",
    "# these time offsets are all standard time\n",
    "# credit:  Marjolein Ribberink\n",
    "#\n",
    "coords={\n",
    "    \"Seattle\":(47.6062, -122.3321,-8),\n",
    "    \"Corvallis\":(44.5646, -123.2620,-8),\n",
    "    \"Boulder\":(40.0150, -105.2705,-7),\n",
    "    \"Norman\":(35.2226, -97.4395,-6),\n",
    "    \"Madison\":(43.0731, -89.4012,-6),\n",
    "    \"Toronto\":(43.6532, -79.3832,-5),\n",
    "    \"Montreal\":(45.5017, -73.5673,-5),\n",
    "    \"Boston\":(42.3601, -71.0589,-5),\n",
    "    \"NYC\":(40.7128, -74.0060,-5),\n",
    "    \"University Park\":(40.8148, -77.8653,-5),\n",
    "    \"Princeton\":(40.3431, -74.6551,-5),\n",
    "    \"Washington DC\":(38.9072, -77.0369,-5),\n",
    "    \"Raleigh\":(35.7796, -78.6382,-5),\n",
    "    \"Tallahassee\":(30.4383, -84.2807,-5),\n",
    "    \"Reading\":(51.4543, -0.9781,0),\n",
    "    \"Toulouse\":(43.6047, 1.4442,1),\n",
    "    \"Munchen\":(48.1351, 11.5820,1),\n",
    "    \"Bergen\":(60.3913, 5.3221,1),\n",
    "    \"Uppsala\":(59.8586, 17.6389,1),\n",
    "    \"DeBilt\":(52.1093, 5.1810,1),\n",
    "    \"Paris\":(48.8566, 2.3522,1),\n",
    "    \"Tokyo\":(35.6804, 139.7690,8),\n",
    "    \"Beijing\":(39.9042, 116.4074,7),\n",
    "    \"Warsaw\":(52.2297, 21.0122,1),\n",
    "    \"Madrid\":(40.4168, 3.7038,1),\n",
    "    \"Melbourne\":(-37.8136, 144.9631,10),\n",
    "    \"Vancouver\":(49.2827, -123.1207,-8)\n",
    "}\n",
    "\n",
    "city_list = ['Vancouver','Reading','Norman']\n",
    "results=dict()\n",
    "for the_city in city_list:\n",
    "    print(f\"\\n{the_city}\\n\")\n",
    "    geocoords = coords[the_city]\n",
    "    the_lat, the_lon, tz_offset = geocoords\n",
    "    hour = 12 - tz_offset\n",
    "    the_date = dt.datetime(2020,6,21,hour,0,0,tzinfo=dt.timezone.utc)\n",
    "    elev=find_elevation(the_date,the_lat,the_lon)\n",
    "    print(f\"lat {the_lat:5.2f} deg N, solar elev {elev:5.2f} deg\")\n",
    "    results[the_city]={'elevation':elev}\n",
    "print(f\"\\n{results}\\n\")"
   ]
  },
  {
   "cell_type": "markdown",
   "id": "9e0318cf",
   "metadata": {},
   "source": []
  },
  {
   "cell_type": "code",
   "execution_count": null,
   "id": "c00d19f9",
   "metadata": {},
   "outputs": [],
   "source": [
    "def find_Tr(elevation,sigma_h,sigma_m,sigma_l):\n",
    "    \"\"\"\n",
    "    given a solar elevation and cloud fractions for 3 layers\n",
    "    find the effective solar flux transmission\n",
    "    \n",
    "    Parameters\n",
    "    ----------\n",
    "    \n",
    "    elevation: float\n",
    "       solar elevation in degrees\n",
    "    sigma_h, sigma_m,sigma_l: floats\n",
    "       high, middle and low cloud fractions, 0 to 1\n",
    "       \n",
    "    Returns\n",
    "    -------\n",
    "    Tr: float\n",
    "       the diffuse and direct flux transmission, 0 to 1\n",
    "    \"\"\"\n",
    "    import numpy as np\n",
    "    deg2rad = np.pi/180.\n",
    "    elevation = elevation*deg2rad\n",
    "    S0 = 1361\n",
    "    Tr = (0.6 + 0.2*np.sin(elevation))*(1-0.4*sigma_h)*(1-0.7*sigma_m)*(1-0.4*sigma_l)\n",
    "    print(f\"cos(theta) factor is {np.sin(elevation):5.2f}\")\n",
    "    return Tr"
   ]
  },
  {
   "cell_type": "markdown",
   "id": "b35624ed",
   "metadata": {},
   "source": [
    "### Now Calculate the flux at the surface for each city\n",
    "\n"
   ]
  },
  {
   "cell_type": "code",
   "execution_count": null,
   "id": "fb8383cc",
   "metadata": {
    "deletable": false,
    "nbgrader": {
     "cell_type": "code",
     "checksum": "a8a99fa295ccc9a3ac3139e53c0c2283",
     "grade": true,
     "grade_id": "cell-0a1c7351a56b8f00",
     "locked": false,
     "points": 4,
     "schema_version": 3,
     "solution": true,
     "task": false
    }
   },
   "outputs": [],
   "source": [
    "# YOUR CODE HERE\n",
    "raise NotImplementedError()"
   ]
  },
  {
   "cell_type": "markdown",
   "id": "f76a51c2",
   "metadata": {},
   "source": [
    "### 8-A2 \n",
    "\n",
    "Find the blackbody radiance for the following sets of wavelength, temperature\n",
    "\n",
    "Feel free to use the `lib_rad` library functions for this"
   ]
  },
  {
   "cell_type": "code",
   "execution_count": null,
   "id": "d0031d6b",
   "metadata": {
    "deletable": false,
    "nbgrader": {
     "cell_type": "code",
     "checksum": "841be408c4266f9a791f798a6ae764e0",
     "grade": true,
     "grade_id": "cell-bfb6f6268208e720",
     "locked": false,
     "points": 2,
     "schema_version": 3,
     "solution": true,
     "task": false
    }
   },
   "outputs": [],
   "source": [
    "# YOUR CODE HERE\n",
    "raise NotImplementedError()\n",
    "    "
   ]
  },
  {
   "cell_type": "markdown",
   "id": "8d0fdb91",
   "metadata": {},
   "source": [
    "### 8-A4 \n",
    "\n",
    "Find the brightness temperature for the following wavelengths given a radiance of $10^{-15}$ W/m^2/sr/micron.\n",
    "\n",
    "Again, feel free to use `rad_lib`"
   ]
  },
  {
   "cell_type": "code",
   "execution_count": null,
   "id": "211a4249",
   "metadata": {
    "deletable": false,
    "nbgrader": {
     "cell_type": "code",
     "checksum": "9578a7ef1f0cbec5c341bc8944ee846e",
     "grade": true,
     "grade_id": "cell-7f27c038c1f5fac4",
     "locked": false,
     "points": 0,
     "schema_version": 3,
     "solution": true,
     "task": false
    }
   },
   "outputs": [],
   "source": [
    "# YOUR CODE HERE\n",
    "raise NotImplementedError()"
   ]
  }
 ],
 "metadata": {
  "jupytext": {
   "notebook_metadata_filter": "all,-language_info,-toc,-latex_envs"
  },
  "kernelspec": {
   "display_name": "Python 3 (ipykernel)",
   "language": "python",
   "name": "python3"
  },
  "language_info": {
   "codemirror_mode": {
    "name": "ipython",
    "version": 3
   },
   "file_extension": ".py",
   "mimetype": "text/x-python",
   "name": "python",
   "nbconvert_exporter": "python",
   "pygments_lexer": "ipython3",
   "version": "3.11.0"
  }
 },
 "nbformat": 4,
 "nbformat_minor": 5
}
