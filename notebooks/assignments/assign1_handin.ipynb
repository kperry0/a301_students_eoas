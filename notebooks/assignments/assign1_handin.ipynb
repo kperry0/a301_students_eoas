{
 "cells": [
  {
   "cell_type": "markdown",
   "id": "5596c7a2",
   "metadata": {},
   "source": [
    "(assign1)=\n",
    "# Assignment 1 -- brightness temperatures\n",
    "\n",
    "Upload this notebook to canvas by 11:59pm Friday January 27.\n",
    "\n",
    "In addition, upload your MYD02 hdf file, your `chan30_31.npz` file \n",
    "and your `lonlat.npz` file (described below) to a folder that has your initials in the `sat_data` folder\n",
    "in the a301hub."
   ]
  },
  {
   "cell_type": "markdown",
   "id": "ddca353e",
   "metadata": {},
   "source": [
    "## Problem 1 -- lat/lon scatter plot\n",
    "\n",
    "In the cell below, delete the text, and replace it with code that reads in your `lonlat.npz` file \n",
    "and makes a plot that shows the individual lat/lon points for the first 50 rows and columns of your Modis\n",
    "granule.\n",
    "\n",
    "\n",
    "To do this first modify `modis_level1b_read.md` to add a cell to dump these latitudes to a numpy npz file called `lonlat.npz`  \n",
    "(you don't have to hand in the modified md file).\n",
    "\n",
    "Then in this notebook, read in the lat/lon arrays from the `lonlat.npz` file \n",
    "and plot them.\n",
    "\n",
    "Here is an excerpt of my code for the `modis_level1b_read.md`:\n",
    "         \n",
    "         # get the latitude variable\n",
    "         latitude = the_file.select(\"Latitude\")\n",
    "         ...\n",
    "         #read the first 50 rows and columns into a numpy array\n",
    "         latitude = latitude_data[:50,:50]\n",
    "         ...\n",
    "         #save them to a npz file\n",
    "         np.savez('lonlat.npz',longitude=longitude,latitude=latitude)\n",
    "         \n",
    "4 points for a correctly labeled plot with lat lon data and a title\n",
    "\n"
   ]
  },
  {
   "cell_type": "code",
   "execution_count": null,
   "id": "2415d675",
   "metadata": {
    "deletable": false,
    "nbgrader": {
     "cell_type": "code",
     "checksum": "99956ff723a487291a4d6985825687c0",
     "grade": true,
     "grade_id": "cell-616c10d44f60728d",
     "locked": false,
     "points": 4,
     "schema_version": 3,
     "solution": true,
     "task": false
    }
   },
   "outputs": [],
   "source": [
    "# YOUR CODE HERE\n",
    "import pprint
from pathlib import Path

import a301_lib
import numpy as np
from matplotlib import pyplot as plt
from pyhdf.SD import SD
from pyhdf.SD import SDC
from matplotlib.colors import Normalize

print(a301_lib.sat_data)
type(a301_lib.sat_data)

#get all files from the data_dir that end in hdf
hdf4_dir = a301_lib.sat_data 
all_files = list(hdf4_dir.glob("*hdf"))

# read our hdf file 
file_name = str(all_files[0])
print(f"reading {file_name}")
the_file = SD(file_name, SDC.READ)
stars = "*" * 50
#print(
#    (
#        f"\n{stars}\n"
#        f"number of datasets, number of attributes\n"
#        f"={the_file.info()}\n"
#        f"{stars}\n"
#        f"\nHere is the help file for the info funtion:\n"
#    )
#)

# plot data using imshow function
longwave_bands = the_file.select("Band_1KM_Emissive")
#
# close the file
#
longwave_bands.info()

longwave_data = the_file.select("EV_1KM_Emissive")

# Latitude and Longitude variable
latitude_data = the_file.select("Latitude")  #want the first 50 rows [:50, :50]
longwave_data.info() #index the numpy array

longitude_data = the_file.select("Longitude")

# read first 50 rows and columns into numpy array
latitude_data = latitude_data[:50, :50]
longitude_data = longitude_data[:50, :50]

# save to npz file
np.savez('lonlat.npz', longitude = longitude_data, latitude = latitude_data)

lonlat_npz = np.load('lonlat.npz')

plt.plot(longitude_data, latitude_data, "+", color = 'black')
plt.title('Lon and Lat for first 50 rows/columns')
plt.xlabel('Latitude')
plt.ylabel('Longitude')"
   ]
  },
  {
   "cell_type": "markdown",
   "id": "5a0d0758",
   "metadata": {},
   "source": [
    "## Problem 2\n",
    "\n",
    "In the cell below, remove the text and replace it\n",
    "with a function that takes an array of MODIS radiances (MKS) and inverts each array value for the \"brightness temperature.`\n",
    "\n",
    "i.e. the top of the cell should look like:\n",
    "\n",
    "```python\n",
    "def radiance_invert(wavelength, L):\n",
    "   etc.\n",
    "   return Btemp\n",
    "```\n",
    "\n",
    "where L is an array of observed radiances (W/m^2/m/sr), wavelength (m) is the central wavelength of that \n",
    "satellite channel and  the function returns Btemp (K), the temperature\n",
    "that a blackbody would have to have to emit that observed radiance (the brightness temperature) at each pixel.\n",
    "\n",
    "NOTE!!-- my autograder doesn't work with `%%writefile`, so make sure you don't have that line in the cell.\n",
    "\n",
    "I'll test the `radiance_invert` function you defined above by roundtripping it with a blackbody radiance for a particular \n",
    "temperature.\n",
    "\n",
    "4 points for a correct function that documents the input parameters and the return value, including units."
   ]
  },
  {
   "cell_type": "markdown",
   "id": "03a39e54",
   "metadata": {},
   "source": [
    "\n",
    "\n",
    "\n"
   ]
  },
  {
   "cell_type": "code",
   "execution_count": null,
   "id": "2b1ac81c-99ba-4b15-ae03-38c8e4e4d6f7",
   "metadata": {
    "deletable": false,
    "nbgrader": {
     "cell_type": "code",
     "checksum": "17d884ed17247a96446e402b18ee31e5",
     "grade": false,
     "grade_id": "cell-1f6fd5bf5abc209f",
     "locked": false,
     "schema_version": 3,
     "solution": true,
     "task": false
    }
   },
   "outputs": [],
   "source": [
    "# YOUR CODE HERE\n",
    "def radiance_invert(wavelength, Lstar):
    """
    Invert the radiance (in MKS units) for the brightness temperature in Kelvins.
    
    Parameters
    ----------

      wavelength: float or array
           wavelength (meters)

      Lstar: float
           temperature (K)

    Returns
    -------

    radiance_invert_val:  float or arr
           inverted radiant exitence (MKS)
    """
    
    radiance_invert_val = (c1 * np.pi / (wavel ** 5.0 * (np.exp(c2 / (wavel * Temp)) - 1)))/np.pi
    return radiance_invert_val

from radiation import Elambda
from planck_invert import radiance_invert
wavel=10.e-6  #10 micron wavelength
the_temp = 300  #temp in K
the_flux = Elambda(wavel,the_temp)
print(f"the flux is {the_flux:8.3g} W/m^2/m")
the_radiance = the_flux/np.pi  #E = L/pi
the_new_temp = radiance_invert(wavel,the_radiance)
print(f"check the temperature = {the_new_temp} K")"
   ]
  },
  {
   "cell_type": "code",
   "execution_count": null,
   "id": "48e2fb78",
   "metadata": {
    "deletable": false,
    "editable": false,
    "nbgrader": {
     "cell_type": "code",
     "checksum": "40aa7e3ea6bcc57f93954040b10b4e8e",
     "grade": true,
     "grade_id": "cell-5b689bd47ff974c3",
     "locked": true,
     "points": 4,
     "schema_version": 3,
     "solution": false,
     "task": false
    }
   },
   "outputs": [],
   "source": [
    "from radiation import Elambda\n",
    "wavel=10.e-6  #10 micron wavelength\n",
    "the_temp = 300  #temp in K\n",
    "the_flux = Elambda(wavel,the_temp)\n",
    "the_radiance = the_flux/np.pi  #E = L/pi\n",
    "the_new_temp = radiance_invert(wavel,the_radiance)\n",
    "np.allclose(the_temp,the_new_temp);"
   ]
  },
  {
   "cell_type": "markdown",
   "id": "38399fcd",
   "metadata": {
    "jp-MarkdownHeadingCollapsed": true,
    "tags": []
   },
   "source": [
    "## Getting the channel 30 and 31 radiance\n",
    "\n",
    "Next, go back to {ref}`modis_level1b:function` and call the readband function again with\n",
    "channel 31 to get the calibrated channel 31 radiances.  Use np.savez in the modis notebook to write\n",
    "a new file with the first 50 rows and first 50 columns of the chan30 and chan31\n",
    "radiances and name it `chan30_31.npz`."
   ]
  },
  {
   "cell_type": "markdown",
   "id": "b37e9f7a",
   "metadata": {},
   "source": [
    "## Problem 3\n",
    "\n",
    "Read in the radiances for channel 30 and channel 31 from the file `chan30_31.npz`\n",
    "you created above.\n",
    "In cell below use your `radiance_invert function` from  problem 2 to turn the calibrated\n",
    "radiances (W/m^2/m/sr) into brightness temperatures\n",
    "in Kelvins.  According to the [modis channel listings](https://modis.gsfc.nasa.gov/about/specifications.php)\n",
    "the central wavelength for channel 30 is 9.73 $\\mu m$ and for channel 31 it's 11.03 $\\mu m$.\n",
    "\n",
    "Make 3 plots of the temperature as an image, using a colorbar as in {ref}`modis_level1b:plot`.\n",
    "\n",
    "* First plot:  channel 30 temperatures\n",
    "* Second plot: channel 31 temperatures\n",
    "* Third plot: channel 31 - channel 30 temperatures\n",
    "\n",
    "Discuss: What is the sign of channel 31 - channel 30?  Why do you think the temperatures\n",
    "are different in the two channels?\n",
    "\n",
    "6 points for the three plots and a brief discussion."
   ]
  },
  {
   "cell_type": "code",
   "execution_count": null,
   "id": "247eafc5",
   "metadata": {
    "deletable": false,
    "nbgrader": {
     "cell_type": "code",
     "checksum": "89b4ae8ba781a9619f84adacb536482d",
     "grade": true,
     "grade_id": "cell-0650c5eadd5c26ec",
     "locked": false,
     "points": 6,
     "schema_version": 3,
     "solution": true,
     "task": false
    }
   },
   "outputs": [],
   "source": [
    "# YOUR CODE HERE\n",
    "#Count the items in the vector and convince yourself that channel 30 is index 9, starting from 0
band_nums = longwave_bands.get()
print(f"here are the modis channels in the emissive dataset \n{band_nums}")

#find the index for channel 30
ch30_index = np.searchsorted(band_nums, 30.0)
print(f"make sure our index datatime in int64: {ch30_index.dtype}")
ch30_index = int(ch30_index)
print(f"channel 30 is located at index {ch30_index}")

#find the index for channel 31
ch31_index = np.searchsorted(band_nums, 31.0)
print(f"make sure our index datatime in int64: {ch31_index.dtype}")
ch31_index = int(ch31_index)
print(f"channel 31 is located at index {ch31_index}")

ch30_data = longwave_data[ch30_index, :, :]
print(ch30_data.shape)
print(ch30_data.dtype)
#breakpoint()

ch31_data = longwave_data[ch31_index, :, :]
print(ch31_data.shape)
print(ch31_data.dtype)
#breakpoint()

scales = longwave_data.attributes()["radiance_scales"]
offsets = longwave_data.attributes()["radiance_offsets"]
ch30_scale = scales[ch30_index]
ch30_offset = offsets[ch30_index]
print(f"scale: {ch30_scale}, offset: {ch30_offset}")

ch31_scale = scales[ch31_index]
ch31_offset = offsets[ch31_index]
print(f"scale: {ch31_scale}, offset: {ch31_offset}")

ch30_calibrated = (ch30_data - ch30_offset) * ch30_scale
ch31_calibrated = (ch31_data - ch31_offset) * ch31_scale

#Use np.savez to write a new file with the first 50 rows and first 50 columns of the chan30 and chan31 radiances.
chan30_data = the_file.select("EV_1KM_Emissive")
chan31_data = the_file.select("EV_1KM_Emissive")

#read the first 50 rows and columns into a numpy array
chan30_data = chan30_data[:50,:50]
chan31_data = chan31_data[:50,:50]

np.savez('chan30_31.npz', chan30=chan30_data, chan31=chan31_data)
print(chan30_data)
print(chan31_data)

# First plot: channel 30 temperatures
fig, ax = plt.subplots(1, 1, figsize=(10, 14))
vmin = 0.0
vmax = 10
the_norm = Normalize(vmin=vmin, vmax=vmax, clip=False)
CS = ax.imshow(ch30_calibrated,norm=the_norm)
cax = fig.colorbar(CS)
ax.set_title("Channel 30 temperature (K)")
#
# add a label to the colorbar and flip it around 270 degrees
#
out = cax.ax.set_ylabel("Chan Temperature (K)")
out.set_verticalalignment("bottom")
out.set_rotation(270)
ch30_calibrated.shape

# Second plot: channel 31 temperatures
fig, ax = plt.subplots(1, 1, figsize=(10, 14))
vmin = 0.0
vmax = 10
the_norm = Normalize(vmin=vmin, vmax=vmax, clip=False)
CS = ax.imshow(ch31_calibrated,norm=the_norm)
cax = fig.colorbar(CS)
ax.set_title("Channel 31 Temperature (K)")
#
# add a label to the colorbar and flip it around 270 degrees
#
out = cax.ax.set_ylabel("Chan Temperature (K)")
out.set_verticalalignment("bottom")
out.set_rotation(270)
ch31_calibrated.shape

# Third plot: channel 31 - channel 30 temperatures
fig, ax = plt.subplots(1, 1, figsize=(10, 14))
vmin = 0.0
vmax = 10
the_norm = Normalize(vmin=vmin, vmax=vmax, clip=False)
CS = ax.imshow(ch31_calibrated - ch30_calibrated,norm=the_norm)
cax = fig.colorbar(CS)
ax.set_title("Channel 31 - Channel 30")
#
# add a label to the colorbar and flip it around 270 degrees
#
out = cax.ax.set_ylabel("Chan Temperature (K)")
out.set_verticalalignment("bottom")
out.set_rotation(270)
ch31_calibrated.shape

# What is the sign of channel 31 - channel 30?  Why do you think the temperatures are different in the two channels?
# The sign is positive. The temperatures are different because they are in different sections of the atmosphere, 
# so one area may be colder since it is at a greater altitude. Areas near the earth will be warmer"
   ]
  }
 ],
 "metadata": {
  "jupytext": {
   "cell_metadata_filter": "all",
   "notebook_metadata_filter": "all,-language_info,-toc,-latex_envs"
  },
  "kernelspec": {
   "display_name": "Python 3 (ipykernel)",
   "language": "python",
   "name": "python3"
  },
  "language_info": {
   "codemirror_mode": {
    "name": "ipython",
    "version": 3
   },
   "file_extension": ".py",
   "mimetype": "text/x-python",
   "name": "python",
   "nbconvert_exporter": "python",
   "pygments_lexer": "ipython3",
   "version": "3.11.0"
  }
 },
 "nbformat": 4,
 "nbformat_minor": 5
}
